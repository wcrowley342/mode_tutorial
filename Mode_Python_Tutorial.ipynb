{
  "nbformat": 4,
  "nbformat_minor": 0,
  "metadata": {
    "colab": {
      "name": "Mode Python Tutorial.ipynb",
      "provenance": [],
      "authorship_tag": "ABX9TyOSrtCqltKu8m/RuODVJRVO",
      "include_colab_link": true
    },
    "kernelspec": {
      "name": "python3",
      "display_name": "Python 3"
    },
    "language_info": {
      "name": "python"
    }
  },
  "cells": [
    {
      "cell_type": "markdown",
      "metadata": {
        "id": "view-in-github",
        "colab_type": "text"
      },
      "source": [
        "<a href=\"https://colab.research.google.com/github/wcrowley342/mode_tutorial/blob/main/Mode_Python_Tutorial.ipynb\" target=\"_parent\"><img src=\"https://colab.research.google.com/assets/colab-badge.svg\" alt=\"Open In Colab\"/></a>"
      ]
    },
    {
      "cell_type": "markdown",
      "metadata": {
        "id": "LkSIhLuYU1-U"
      },
      "source": [
        "https://mode.com/python-tutorial/"
      ]
    },
    {
      "cell_type": "markdown",
      "metadata": {
        "id": "74PJW6BOUrIp"
      },
      "source": [
        "# [Python Basics](https:////mode.com/python-tutorial/python-basics/)  "
      ]
    },
    {
      "cell_type": "markdown",
      "metadata": {
        "id": "8OAL1ICrU3w2"
      },
      "source": [
        ""
      ]
    },
    {
      "cell_type": "code",
      "metadata": {
        "colab": {
          "base_uri": "https://localhost:8080/"
        },
        "id": "9HZo_NzmUw-A",
        "outputId": "2400b925-b38b-40a1-b2ec-b406bd122537"
      },
      "source": [
        "a = 6 \n",
        "b = 2\n",
        "\n",
        "print(a/b)"
      ],
      "execution_count": null,
      "outputs": [
        {
          "output_type": "stream",
          "text": [
            "3.0\n"
          ],
          "name": "stdout"
        }
      ]
    },
    {
      "cell_type": "code",
      "metadata": {
        "colab": {
          "base_uri": "https://localhost:8080/"
        },
        "id": "YGycrkUMWC1Q",
        "outputId": "cbeade63-3b15-4ce0-d798-68884b47ba0f"
      },
      "source": [
        "first_string = \"hello from mode\"\n",
        "print(first_string)"
      ],
      "execution_count": null,
      "outputs": [
        {
          "output_type": "stream",
          "text": [
            "hello from mode\n"
          ],
          "name": "stdout"
        }
      ]
    },
    {
      "cell_type": "markdown",
      "metadata": {
        "id": "voPskbOMWPmH"
      },
      "source": [
        "**Lists**"
      ]
    },
    {
      "cell_type": "code",
      "metadata": {
        "colab": {
          "base_uri": "https://localhost:8080/",
          "height": 35
        },
        "id": "CBZ0SOHRWR-y",
        "outputId": "19e667e9-0930-4a93-f936-7cab6d89f119"
      },
      "source": [
        "cities_list = ['Tokyo','Los Angeles','New York','San Francisco']\n",
        "cities_list[1]"
      ],
      "execution_count": null,
      "outputs": [
        {
          "output_type": "execute_result",
          "data": {
            "application/vnd.google.colaboratory.intrinsic+json": {
              "type": "string"
            },
            "text/plain": [
              "'Los Angeles'"
            ]
          },
          "metadata": {
            "tags": []
          },
          "execution_count": 11
        }
      ]
    },
    {
      "cell_type": "code",
      "metadata": {
        "colab": {
          "base_uri": "https://localhost:8080/"
        },
        "id": "IINYeP3iWhzk",
        "outputId": "0ac663e9-e4bb-4ca2-9f35-a3fca531b757"
      },
      "source": [
        "cities_list[2:4]"
      ],
      "execution_count": null,
      "outputs": [
        {
          "output_type": "execute_result",
          "data": {
            "text/plain": [
              "['New York', 'San Francisco']"
            ]
          },
          "metadata": {
            "tags": []
          },
          "execution_count": 12
        }
      ]
    },
    {
      "cell_type": "markdown",
      "metadata": {
        "id": "6SY6Upr5WqWe"
      },
      "source": [
        "**Dictionaries**"
      ]
    },
    {
      "cell_type": "code",
      "metadata": {
        "id": "NgaGjuZmWtEx"
      },
      "source": [
        "city_population = {\n",
        "    'Tokyo': 13350000, # a key-value pair\n",
        "    'Los Angeles': 18550000,\n",
        "    'New York City': 8400000,\n",
        "    'San Francisco': 1837442,\n",
        "}"
      ],
      "execution_count": null,
      "outputs": []
    },
    {
      "cell_type": "code",
      "metadata": {
        "colab": {
          "base_uri": "https://localhost:8080/"
        },
        "id": "4Edz1ejqW2cV",
        "outputId": "0361be55-649d-46a4-b1c4-559c7c71c8d4"
      },
      "source": [
        "city_population['New York City']"
      ],
      "execution_count": null,
      "outputs": [
        {
          "output_type": "execute_result",
          "data": {
            "text/plain": [
              "8400000"
            ]
          },
          "metadata": {
            "tags": []
          },
          "execution_count": 14
        }
      ]
    },
    {
      "cell_type": "markdown",
      "metadata": {
        "id": "QzqrXZF3XCDC"
      },
      "source": [
        "adding a key-value pair to the dictionary"
      ]
    },
    {
      "cell_type": "markdown",
      "metadata": {
        "id": "DyFjL1EYXNt_"
      },
      "source": [
        "“=” will assign a given value to a specific key, regardless of whether the key already exists in the dictionary. If it already exists, the new value will overwrite the previous one."
      ]
    },
    {
      "cell_type": "code",
      "metadata": {
        "id": "zLNtKDukXEPj"
      },
      "source": [
        "city_population['Mumbai'] = 11980000"
      ],
      "execution_count": null,
      "outputs": []
    },
    {
      "cell_type": "code",
      "metadata": {
        "colab": {
          "base_uri": "https://localhost:8080/"
        },
        "id": "BBXW7kcDXGBe",
        "outputId": "60820526-9683-4f64-aeba-afa5095bf3d6"
      },
      "source": [
        "city_population"
      ],
      "execution_count": null,
      "outputs": [
        {
          "output_type": "execute_result",
          "data": {
            "text/plain": [
              "{'Los Angeles': 18550000,\n",
              " 'Mumbai': 11980000,\n",
              " 'New York City': 8400000,\n",
              " 'San Francisco': 1837442,\n",
              " 'Tokyo': 13350000}"
            ]
          },
          "metadata": {
            "tags": []
          },
          "execution_count": 16
        }
      ]
    },
    {
      "cell_type": "markdown",
      "metadata": {
        "id": "yVMfuT4SXTcw"
      },
      "source": [
        "**Boolean Objects**"
      ]
    },
    {
      "cell_type": "code",
      "metadata": {
        "colab": {
          "base_uri": "https://localhost:8080/"
        },
        "id": "vYH6OE-zYBOu",
        "outputId": "43e7f816-10a7-44ac-d5ab-bae613449abc"
      },
      "source": [
        "type(True)"
      ],
      "execution_count": null,
      "outputs": [
        {
          "output_type": "execute_result",
          "data": {
            "text/plain": [
              "bool"
            ]
          },
          "metadata": {
            "tags": []
          },
          "execution_count": 18
        }
      ]
    },
    {
      "cell_type": "code",
      "metadata": {
        "colab": {
          "base_uri": "https://localhost:8080/"
        },
        "id": "rZDllMdhXT_x",
        "outputId": "1a021a96-38c4-4871-93b2-b8b3eb63adbe"
      },
      "source": [
        "city_population['Tokyo'] == 13350000\n",
        "\n",
        "#two equal signs will test for equality, but one equal sign will assign a variable. If you removed one of the equal signs, you would change the value of Tokyo's population in the dictionary"
      ],
      "execution_count": null,
      "outputs": [
        {
          "output_type": "execute_result",
          "data": {
            "text/plain": [
              "True"
            ]
          },
          "metadata": {
            "tags": []
          },
          "execution_count": 17
        }
      ]
    },
    {
      "cell_type": "code",
      "metadata": {
        "id": "rfBGeE93YDHK",
        "colab": {
          "base_uri": "https://localhost:8080/"
        },
        "outputId": "4bd377f2-2b4c-40d9-ad3c-9e88c32915c0"
      },
      "source": [
        "city_population['Tokyo'] == 23350000\n"
      ],
      "execution_count": null,
      "outputs": [
        {
          "output_type": "execute_result",
          "data": {
            "text/plain": [
              "False"
            ]
          },
          "metadata": {
            "tags": []
          },
          "execution_count": 19
        }
      ]
    },
    {
      "cell_type": "markdown",
      "metadata": {
        "id": "zXUHuC39zir7"
      },
      "source": [
        "[# Python Methods, Functions, & Libraries](mode.com/python-tutorial/python-methods-functions-and-libraries/)"
      ]
    },
    {
      "cell_type": "code",
      "metadata": {
        "id": "8be326Tfzp0n"
      },
      "source": [
        ""
      ],
      "execution_count": null,
      "outputs": []
    },
    {
      "cell_type": "code",
      "metadata": {
        "id": "ZXZpqSHhzz6y"
      },
      "source": [
        ""
      ],
      "execution_count": null,
      "outputs": []
    },
    {
      "cell_type": "markdown",
      "metadata": {
        "id": "pUoujA1Tz5ij"
      },
      "source": [
        "# [Python Methods, Functions, and Libraries](https://mode.com/python-tutorial/python-methods-functions-and-libraries/)"
      ]
    },
    {
      "cell_type": "code",
      "metadata": {
        "id": "0ca4MqrIz_Xj"
      },
      "source": [
        "#using a simple dictionary\n",
        "city_population = {\n",
        "  'Tokyo': 13350000, # a key-value pair\n",
        "  'Los Angeles': 18550000,\n",
        "  'New York City': 8400000,\n",
        "  'San Francisco': 1837442,\n",
        "}"
      ],
      "execution_count": null,
      "outputs": []
    },
    {
      "cell_type": "markdown",
      "metadata": {
        "id": "lRMQK0gm07sv"
      },
      "source": [
        "**Methods**"
      ]
    },
    {
      "cell_type": "markdown",
      "metadata": {
        "id": "hrMydfXG0WNI"
      },
      "source": [
        "A method is an action that you can take on an object. If a real-world window was an object, its methods might be .open() or .close()."
      ]
    },
    {
      "cell_type": "code",
      "metadata": {
        "colab": {
          "base_uri": "https://localhost:8080/"
        },
        "id": "x9wgqrQa0Tva",
        "outputId": "4c42b40e-47e7-46c8-d36c-78e04fdeedc0"
      },
      "source": [
        "city_population.keys()\n"
      ],
      "execution_count": null,
      "outputs": [
        {
          "output_type": "execute_result",
          "data": {
            "text/plain": [
              "dict_keys(['Tokyo', 'Los Angeles', 'New York City', 'San Francisco'])"
            ]
          },
          "metadata": {
            "tags": []
          },
          "execution_count": 4
        }
      ]
    },
    {
      "cell_type": "code",
      "metadata": {
        "colab": {
          "base_uri": "https://localhost:8080/"
        },
        "id": "lPY--WO10en8",
        "outputId": "8ecff806-9619-4cbf-e19f-1406363fefb2"
      },
      "source": [
        "type(city_population.keys())"
      ],
      "execution_count": null,
      "outputs": [
        {
          "output_type": "execute_result",
          "data": {
            "text/plain": [
              "dict_keys"
            ]
          },
          "metadata": {
            "tags": []
          },
          "execution_count": 5
        }
      ]
    },
    {
      "cell_type": "code",
      "metadata": {
        "colab": {
          "base_uri": "https://localhost:8080/"
        },
        "id": "HIFyK9Dp0kmP",
        "outputId": "29436a2a-ece7-472a-e73d-adb740569ad3"
      },
      "source": [
        "city_population.values()"
      ],
      "execution_count": null,
      "outputs": [
        {
          "output_type": "execute_result",
          "data": {
            "text/plain": [
              "dict_values([13350000, 18550000, 8400000, 1837442])"
            ]
          },
          "metadata": {
            "tags": []
          },
          "execution_count": 11
        }
      ]
    },
    {
      "cell_type": "markdown",
      "metadata": {
        "id": "Iaisqhj10_DB"
      },
      "source": [
        "**Functions**"
      ]
    },
    {
      "cell_type": "markdown",
      "metadata": {
        "id": "ECxYHhll1BQL"
      },
      "source": [
        "They're very similar to methods in that they perform an action, but unlike methods, functions are not tied to specific objects. To relate this concept to our earlier window example, the function throw_rock() could be used with a real-world object window, but also with vase or cow or a number of other objects."
      ]
    },
    {
      "cell_type": "markdown",
      "metadata": {
        "id": "pa9f28so1I54"
      },
      "source": [
        "Functions typically go in front of an object name (with the object wrapped in parentheses), whereas a method is appended to the end of an object name. For example, compare throw_rock(window) with window.open()."
      ]
    },
    {
      "cell_type": "code",
      "metadata": {
        "colab": {
          "base_uri": "https://localhost:8080/"
        },
        "id": "2MgSONP_1Jsv",
        "outputId": "fadce809-1764-4a6e-8c44-0d603a30a00e"
      },
      "source": [
        "#type is a common function\n",
        "\n",
        "type(city_population['Tokyo'])"
      ],
      "execution_count": null,
      "outputs": [
        {
          "output_type": "execute_result",
          "data": {
            "text/plain": [
              "int"
            ]
          },
          "metadata": {
            "tags": []
          },
          "execution_count": 16
        }
      ]
    },
    {
      "cell_type": "markdown",
      "metadata": {
        "id": "uGr_iw_J1uGw"
      },
      "source": [
        "**Libraries**"
      ]
    },
    {
      "cell_type": "markdown",
      "metadata": {
        "id": "hmtm4RnZ1yVf"
      },
      "source": [
        "A library is a bundle of code made to help you accomplish routine tasks more quickly. Seaborn, for example, allows you to create visualizations with as little as one line of code."
      ]
    },
    {
      "cell_type": "code",
      "metadata": {
        "id": "8y-m87xQ136n"
      },
      "source": [
        "import numpy as np # name of the library\n"
      ],
      "execution_count": null,
      "outputs": []
    },
    {
      "cell_type": "code",
      "metadata": {
        "id": "m3l38ttI2lgh"
      },
      "source": [
        "#converting a dictionary into a numpy array\n",
        "\n",
        "data = list(city_population.items())\n",
        "my_array = np.array(data)"
      ],
      "execution_count": null,
      "outputs": []
    },
    {
      "cell_type": "code",
      "metadata": {
        "colab": {
          "base_uri": "https://localhost:8080/"
        },
        "id": "9paov6rK2vF6",
        "outputId": "5e7d8e69-2e9d-4ffa-a9ef-39137ff278e4"
      },
      "source": [
        "my_array"
      ],
      "execution_count": null,
      "outputs": [
        {
          "output_type": "execute_result",
          "data": {
            "text/plain": [
              "array([['Tokyo', '13350000'],\n",
              "       ['Los Angeles', '18550000'],\n",
              "       ['New York City', '8400000'],\n",
              "       ['San Francisco', '1837442']], dtype='<U13')"
            ]
          },
          "metadata": {
            "tags": []
          },
          "execution_count": 24
        }
      ]
    },
    {
      "cell_type": "markdown",
      "metadata": {
        "id": "4U_T1rp7rIgx"
      },
      "source": [
        "# [Creating DataFrames & Selecting Data](https://mode.com/python-tutorial/pandas-dataframe/)"
      ]
    },
    {
      "cell_type": "markdown",
      "metadata": {
        "id": "scHof2SrrZrI"
      },
      "source": [
        "In python, table with multiple columns is a **DataFrame**; because DataFrames are built in Python, it's possible to use Python to program more advanced operations and manipulations than SQL and Excel can offer"
      ]
    },
    {
      "cell_type": "markdown",
      "metadata": {
        "id": "R0fnd95CrYbj"
      },
      "source": [
        "you should get in the habit of giving librarias aliases so you can refer to them easily throughout your code. \n",
        "\n",
        "Pandas (which focus on tables/dataframes) is typically aliased as pd:\n",
        "\n"
      ]
    },
    {
      "cell_type": "code",
      "metadata": {
        "id": "X3uPiEUyrYLQ"
      },
      "source": [
        "import pandas as pd"
      ],
      "execution_count": 8,
      "outputs": []
    },
    {
      "cell_type": "markdown",
      "metadata": {
        "id": "NEoXCJjE0Kqq"
      },
      "source": [
        "Numpy (which focus on lists or arrays as they are called in python) is typically aliased as np\n"
      ]
    },
    {
      "cell_type": "code",
      "metadata": {
        "id": "G9grP3Kb0Rkk"
      },
      "source": [
        "import numpy as np"
      ],
      "execution_count": 13,
      "outputs": []
    },
    {
      "cell_type": "code",
      "metadata": {
        "colab": {
          "base_uri": "https://localhost:8080/"
        },
        "id": "oiB2AsZzvW2X",
        "outputId": "c9ffb64c-8d25-4523-f7d2-4188e70d21f5"
      },
      "source": [
        "#Dictionary of key pair values called data\n",
        "data = {'Name':['Ashika', 'Tanu', 'Ashwin', 'Mohit', 'Sourabh'],\n",
        "        'Age': [24, 23, 22, 19, 10]}\n",
        "data"
      ],
      "execution_count": 9,
      "outputs": [
        {
          "output_type": "execute_result",
          "data": {
            "text/plain": [
              "{'Age': [24, 23, 22, 19, 10],\n",
              " 'Name': ['Ashika', 'Tanu', 'Ashwin', 'Mohit', 'Sourabh']}"
            ]
          },
          "metadata": {
            "tags": []
          },
          "execution_count": 9
        }
      ]
    },
    {
      "cell_type": "markdown",
      "metadata": {
        "id": "spjESyzd0epL"
      },
      "source": [
        "another way to create a dataframe is through a CSV file. Make sure to right click on the file in the \"files\" menu, and copy/paste \"file path\" when reading in the CSV into your dataframe"
      ]
    },
    {
      "cell_type": "code",
      "metadata": {
        "id": "1FWTsLkk0iFc"
      },
      "source": [
        "#cars = pd.read_csv('cars.csv')"
      ],
      "execution_count": null,
      "outputs": []
    },
    {
      "cell_type": "code",
      "metadata": {
        "colab": {
          "base_uri": "https://localhost:8080/",
          "height": 197
        },
        "id": "-TqKlbvWvbDL",
        "outputId": "265779c8-0181-48e4-a8bd-41185e838587"
      },
      "source": [
        "# Calling the pandas data frame method by passing the dictionary (data) as a parameter\n",
        "df = pd.DataFrame(data)\n",
        "df"
      ],
      "execution_count": 10,
      "outputs": [
        {
          "output_type": "execute_result",
          "data": {
            "text/html": [
              "<div>\n",
              "<style scoped>\n",
              "    .dataframe tbody tr th:only-of-type {\n",
              "        vertical-align: middle;\n",
              "    }\n",
              "\n",
              "    .dataframe tbody tr th {\n",
              "        vertical-align: top;\n",
              "    }\n",
              "\n",
              "    .dataframe thead th {\n",
              "        text-align: right;\n",
              "    }\n",
              "</style>\n",
              "<table border=\"1\" class=\"dataframe\">\n",
              "  <thead>\n",
              "    <tr style=\"text-align: right;\">\n",
              "      <th></th>\n",
              "      <th>Name</th>\n",
              "      <th>Age</th>\n",
              "    </tr>\n",
              "  </thead>\n",
              "  <tbody>\n",
              "    <tr>\n",
              "      <th>0</th>\n",
              "      <td>Ashika</td>\n",
              "      <td>24</td>\n",
              "    </tr>\n",
              "    <tr>\n",
              "      <th>1</th>\n",
              "      <td>Tanu</td>\n",
              "      <td>23</td>\n",
              "    </tr>\n",
              "    <tr>\n",
              "      <th>2</th>\n",
              "      <td>Ashwin</td>\n",
              "      <td>22</td>\n",
              "    </tr>\n",
              "    <tr>\n",
              "      <th>3</th>\n",
              "      <td>Mohit</td>\n",
              "      <td>19</td>\n",
              "    </tr>\n",
              "    <tr>\n",
              "      <th>4</th>\n",
              "      <td>Sourabh</td>\n",
              "      <td>10</td>\n",
              "    </tr>\n",
              "  </tbody>\n",
              "</table>\n",
              "</div>"
            ],
            "text/plain": [
              "      Name  Age\n",
              "0   Ashika   24\n",
              "1     Tanu   23\n",
              "2   Ashwin   22\n",
              "3    Mohit   19\n",
              "4  Sourabh   10"
            ]
          },
          "metadata": {
            "tags": []
          },
          "execution_count": 10
        }
      ]
    },
    {
      "cell_type": "markdown",
      "metadata": {
        "id": "0F1u-89jsc9W"
      },
      "source": [
        "**Selecting columns in a dataframe**"
      ]
    },
    {
      "cell_type": "markdown",
      "metadata": {
        "id": "gLUytcT9sNVo"
      },
      "source": [
        "you can use brackets to select a column in the DataFrame. Selecting the column gives you access to the whole column, but will only show a preview. Below the column, the column name and data type (dtype) are printed for easy reference.\n",
        "\n",
        "You can either use a single bracket or a double bracket. The single bracket will output a Pandas Series, while a double bracket will output a Pandas DataFrame"
      ]
    },
    {
      "cell_type": "code",
      "metadata": {
        "colab": {
          "base_uri": "https://localhost:8080/"
        },
        "id": "q3oKBc71sORA",
        "outputId": "84f86e8c-b677-47c3-a40a-172dfd5670b8"
      },
      "source": [
        "df['Name']"
      ],
      "execution_count": 11,
      "outputs": [
        {
          "output_type": "execute_result",
          "data": {
            "text/plain": [
              "0     Ashika\n",
              "1       Tanu\n",
              "2     Ashwin\n",
              "3      Mohit\n",
              "4    Sourabh\n",
              "Name: Name, dtype: object"
            ]
          },
          "metadata": {
            "tags": []
          },
          "execution_count": 11
        }
      ]
    },
    {
      "cell_type": "code",
      "metadata": {
        "colab": {
          "base_uri": "https://localhost:8080/",
          "height": 197
        },
        "id": "gNPlNhPtvsBu",
        "outputId": "889dcc84-bd69-466e-f3ed-57333916e8a5"
      },
      "source": [
        "df[['Name']]"
      ],
      "execution_count": 12,
      "outputs": [
        {
          "output_type": "execute_result",
          "data": {
            "text/html": [
              "<div>\n",
              "<style scoped>\n",
              "    .dataframe tbody tr th:only-of-type {\n",
              "        vertical-align: middle;\n",
              "    }\n",
              "\n",
              "    .dataframe tbody tr th {\n",
              "        vertical-align: top;\n",
              "    }\n",
              "\n",
              "    .dataframe thead th {\n",
              "        text-align: right;\n",
              "    }\n",
              "</style>\n",
              "<table border=\"1\" class=\"dataframe\">\n",
              "  <thead>\n",
              "    <tr style=\"text-align: right;\">\n",
              "      <th></th>\n",
              "      <th>Name</th>\n",
              "    </tr>\n",
              "  </thead>\n",
              "  <tbody>\n",
              "    <tr>\n",
              "      <th>0</th>\n",
              "      <td>Ashika</td>\n",
              "    </tr>\n",
              "    <tr>\n",
              "      <th>1</th>\n",
              "      <td>Tanu</td>\n",
              "    </tr>\n",
              "    <tr>\n",
              "      <th>2</th>\n",
              "      <td>Ashwin</td>\n",
              "    </tr>\n",
              "    <tr>\n",
              "      <th>3</th>\n",
              "      <td>Mohit</td>\n",
              "    </tr>\n",
              "    <tr>\n",
              "      <th>4</th>\n",
              "      <td>Sourabh</td>\n",
              "    </tr>\n",
              "  </tbody>\n",
              "</table>\n",
              "</div>"
            ],
            "text/plain": [
              "      Name\n",
              "0   Ashika\n",
              "1     Tanu\n",
              "2   Ashwin\n",
              "3    Mohit\n",
              "4  Sourabh"
            ]
          },
          "metadata": {
            "tags": []
          },
          "execution_count": 12
        }
      ]
    },
    {
      "cell_type": "markdown",
      "metadata": {
        "id": "5xc3X-3Asg41"
      },
      "source": [
        "**Selecting rows in a dataframe**"
      ]
    },
    {
      "cell_type": "code",
      "metadata": {
        "id": "M883cr5UspXV"
      },
      "source": [
        "#data[4:7]\n",
        "data[4997:]"
      ],
      "execution_count": null,
      "outputs": []
    },
    {
      "cell_type": "markdown",
      "metadata": {
        "id": "gq9neL5ls_ZH"
      },
      "source": [
        "**Selecting a specific row**"
      ]
    },
    {
      "cell_type": "markdown",
      "metadata": {
        "id": "tVbLj0FBtDrA"
      },
      "source": [
        "To select a specific row, you must use the .ix method, with the row's index in brackets:\n",
        "\n"
      ]
    },
    {
      "cell_type": "code",
      "metadata": {
        "id": "3q1QyG2EtEQn"
      },
      "source": [
        "#data.ix[1]"
      ],
      "execution_count": 2,
      "outputs": []
    },
    {
      "cell_type": "markdown",
      "metadata": {
        "id": "I734TBsetekk"
      },
      "source": [
        "**Selecting rows and columns **"
      ]
    },
    {
      "cell_type": "markdown",
      "metadata": {
        "id": "vPb6mc7Ptmgq"
      },
      "source": [
        "Just as you can select from rows or columns, you can also select from both rows and columns at the same time. For example, you can select the first three rows of the title column by naming both the column and rows in square brackets:"
      ]
    },
    {
      "cell_type": "code",
      "metadata": {
        "id": "p_yGBgAatnAd"
      },
      "source": [
        "#data['title'][:3]"
      ],
      "execution_count": 4,
      "outputs": []
    },
    {
      "cell_type": "markdown",
      "metadata": {
        "id": "6RKEAmLZ1xUo"
      },
      "source": [
        "**Working with missing data**"
      ]
    },
    {
      "cell_type": "code",
      "metadata": {
        "colab": {
          "base_uri": "https://localhost:8080/"
        },
        "id": "8CqhJ7JI10uN",
        "outputId": "62c26b03-cdfd-4f1e-fde5-fac434f82aa6"
      },
      "source": [
        "data ={'Name':['Tanu', np.nan],\n",
        "       'Age': [23, np.nan]}\n",
        "data"
      ],
      "execution_count": 14,
      "outputs": [
        {
          "output_type": "execute_result",
          "data": {
            "text/plain": [
              "{'Age': [23, nan], 'Name': ['Tanu', nan]}"
            ]
          },
          "metadata": {
            "tags": []
          },
          "execution_count": 14
        }
      ]
    },
    {
      "cell_type": "code",
      "metadata": {
        "colab": {
          "base_uri": "https://localhost:8080/",
          "height": 107
        },
        "id": "2k9WpQ-m1xEO",
        "outputId": "f566e810-caf2-4145-b72d-ca4903e5a56f"
      },
      "source": [
        "df = pd.DataFrame(data)\n",
        "df"
      ],
      "execution_count": 15,
      "outputs": [
        {
          "output_type": "execute_result",
          "data": {
            "text/html": [
              "<div>\n",
              "<style scoped>\n",
              "    .dataframe tbody tr th:only-of-type {\n",
              "        vertical-align: middle;\n",
              "    }\n",
              "\n",
              "    .dataframe tbody tr th {\n",
              "        vertical-align: top;\n",
              "    }\n",
              "\n",
              "    .dataframe thead th {\n",
              "        text-align: right;\n",
              "    }\n",
              "</style>\n",
              "<table border=\"1\" class=\"dataframe\">\n",
              "  <thead>\n",
              "    <tr style=\"text-align: right;\">\n",
              "      <th></th>\n",
              "      <th>Name</th>\n",
              "      <th>Age</th>\n",
              "    </tr>\n",
              "  </thead>\n",
              "  <tbody>\n",
              "    <tr>\n",
              "      <th>0</th>\n",
              "      <td>Tanu</td>\n",
              "      <td>23.0</td>\n",
              "    </tr>\n",
              "    <tr>\n",
              "      <th>1</th>\n",
              "      <td>NaN</td>\n",
              "      <td>NaN</td>\n",
              "    </tr>\n",
              "  </tbody>\n",
              "</table>\n",
              "</div>"
            ],
            "text/plain": [
              "   Name   Age\n",
              "0  Tanu  23.0\n",
              "1   NaN   NaN"
            ]
          },
          "metadata": {
            "tags": []
          },
          "execution_count": 15
        }
      ]
    },
    {
      "cell_type": "code",
      "metadata": {
        "colab": {
          "base_uri": "https://localhost:8080/",
          "height": 107
        },
        "id": "STbrL3VB19Wo",
        "outputId": "f2abdddd-4f88-48c3-f8f7-bc0dcaa16dbe"
      },
      "source": [
        "# using the isnull() function\n",
        "df.isnull()"
      ],
      "execution_count": 20,
      "outputs": [
        {
          "output_type": "execute_result",
          "data": {
            "text/html": [
              "<div>\n",
              "<style scoped>\n",
              "    .dataframe tbody tr th:only-of-type {\n",
              "        vertical-align: middle;\n",
              "    }\n",
              "\n",
              "    .dataframe tbody tr th {\n",
              "        vertical-align: top;\n",
              "    }\n",
              "\n",
              "    .dataframe thead th {\n",
              "        text-align: right;\n",
              "    }\n",
              "</style>\n",
              "<table border=\"1\" class=\"dataframe\">\n",
              "  <thead>\n",
              "    <tr style=\"text-align: right;\">\n",
              "      <th></th>\n",
              "      <th>Name</th>\n",
              "      <th>Age</th>\n",
              "    </tr>\n",
              "  </thead>\n",
              "  <tbody>\n",
              "    <tr>\n",
              "      <th>0</th>\n",
              "      <td>False</td>\n",
              "      <td>False</td>\n",
              "    </tr>\n",
              "    <tr>\n",
              "      <th>1</th>\n",
              "      <td>True</td>\n",
              "      <td>True</td>\n",
              "    </tr>\n",
              "  </tbody>\n",
              "</table>\n",
              "</div>"
            ],
            "text/plain": [
              "    Name    Age\n",
              "0  False  False\n",
              "1   True   True"
            ]
          },
          "metadata": {
            "tags": []
          },
          "execution_count": 20
        }
      ]
    },
    {
      "cell_type": "markdown",
      "metadata": {
        "id": "kaKMnENr2DID"
      },
      "source": [
        "Now we have found the missing values, next task is to fill those values with 0 this can be done as shown below:\n",
        "\n"
      ]
    },
    {
      "cell_type": "code",
      "metadata": {
        "colab": {
          "base_uri": "https://localhost:8080/",
          "height": 107
        },
        "id": "SCshRqrG2Al6",
        "outputId": "26408340-e735-4f6e-897a-46934589a73d"
      },
      "source": [
        "df.fillna(0)\n"
      ],
      "execution_count": 18,
      "outputs": [
        {
          "output_type": "execute_result",
          "data": {
            "text/html": [
              "<div>\n",
              "<style scoped>\n",
              "    .dataframe tbody tr th:only-of-type {\n",
              "        vertical-align: middle;\n",
              "    }\n",
              "\n",
              "    .dataframe tbody tr th {\n",
              "        vertical-align: top;\n",
              "    }\n",
              "\n",
              "    .dataframe thead th {\n",
              "        text-align: right;\n",
              "    }\n",
              "</style>\n",
              "<table border=\"1\" class=\"dataframe\">\n",
              "  <thead>\n",
              "    <tr style=\"text-align: right;\">\n",
              "      <th></th>\n",
              "      <th>Name</th>\n",
              "      <th>Age</th>\n",
              "    </tr>\n",
              "  </thead>\n",
              "  <tbody>\n",
              "    <tr>\n",
              "      <th>0</th>\n",
              "      <td>Tanu</td>\n",
              "      <td>23.0</td>\n",
              "    </tr>\n",
              "    <tr>\n",
              "      <th>1</th>\n",
              "      <td>0</td>\n",
              "      <td>0.0</td>\n",
              "    </tr>\n",
              "  </tbody>\n",
              "</table>\n",
              "</div>"
            ],
            "text/plain": [
              "   Name   Age\n",
              "0  Tanu  23.0\n",
              "1     0   0.0"
            ]
          },
          "metadata": {
            "tags": []
          },
          "execution_count": 18
        }
      ]
    },
    {
      "cell_type": "markdown",
      "metadata": {
        "id": "Bnm_2ZFP04qI"
      },
      "source": [
        "**Other helpful resources**"
      ]
    },
    {
      "cell_type": "markdown",
      "metadata": {
        "id": "jBR6VSvk0-fr"
      },
      "source": [
        "\n",
        "\n",
        "*   [Pandas basics - learn pandas\n",
        "](https://www.learnpython.org/en/Pandas_Basics#:~:text=Indexing%20DataFrames&text=You%20can%20either%20use%20a,will%20output%20a%20Pandas%20DataFrame.&text=Square%20brackets%20can%20also%20be,(rows)%20from%20a%20DataFrame.)\n",
        "*   [Dataframe basics](https://github.com/Tanu-N-Prabhu/Python/blob/master/Pandas/Pandas_DataFrame.ipynb)\n",
        "*   List item\n",
        "\n",
        "\n"
      ]
    }
  ]
}