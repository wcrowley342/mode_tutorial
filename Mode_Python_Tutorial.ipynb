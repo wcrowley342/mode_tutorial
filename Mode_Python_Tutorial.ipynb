{
  "nbformat": 4,
  "nbformat_minor": 0,
  "metadata": {
    "colab": {
      "name": "Mode Python Tutorial.ipynb",
      "provenance": [],
      "toc_visible": true,
      "authorship_tag": "ABX9TyMVAeGEjOjnUHnvq2UMXwXI",
      "include_colab_link": true
    },
    "kernelspec": {
      "name": "python3",
      "display_name": "Python 3"
    },
    "language_info": {
      "name": "python"
    }
  },
  "cells": [
    {
      "cell_type": "markdown",
      "metadata": {
        "id": "view-in-github",
        "colab_type": "text"
      },
      "source": [
        "<a href=\"https://colab.research.google.com/github/wcrowley342/mode_tutorial/blob/main/Mode_Python_Tutorial.ipynb\" target=\"_parent\"><img src=\"https://colab.research.google.com/assets/colab-badge.svg\" alt=\"Open In Colab\"/></a>"
      ]
    },
    {
      "cell_type": "markdown",
      "metadata": {
        "id": "LkSIhLuYU1-U"
      },
      "source": [
        "https://mode.com/python-tutorial/"
      ]
    },
    {
      "cell_type": "markdown",
      "metadata": {
        "id": "74PJW6BOUrIp"
      },
      "source": [
        "# [Python Basics](https:////mode.com/python-tutorial/python-basics/)  "
      ]
    },
    {
      "cell_type": "markdown",
      "metadata": {
        "id": "8OAL1ICrU3w2"
      },
      "source": [
        ""
      ]
    },
    {
      "cell_type": "code",
      "metadata": {
        "colab": {
          "base_uri": "https://localhost:8080/"
        },
        "id": "9HZo_NzmUw-A",
        "outputId": "2400b925-b38b-40a1-b2ec-b406bd122537"
      },
      "source": [
        "a = 6 \n",
        "b = 2\n",
        "\n",
        "print(a/b)"
      ],
      "execution_count": null,
      "outputs": [
        {
          "output_type": "stream",
          "text": [
            "3.0\n"
          ],
          "name": "stdout"
        }
      ]
    },
    {
      "cell_type": "code",
      "metadata": {
        "colab": {
          "base_uri": "https://localhost:8080/"
        },
        "id": "YGycrkUMWC1Q",
        "outputId": "cbeade63-3b15-4ce0-d798-68884b47ba0f"
      },
      "source": [
        "first_string = \"hello from mode\"\n",
        "print(first_string)"
      ],
      "execution_count": null,
      "outputs": [
        {
          "output_type": "stream",
          "text": [
            "hello from mode\n"
          ],
          "name": "stdout"
        }
      ]
    },
    {
      "cell_type": "markdown",
      "metadata": {
        "id": "voPskbOMWPmH"
      },
      "source": [
        "**Lists**"
      ]
    },
    {
      "cell_type": "code",
      "metadata": {
        "colab": {
          "base_uri": "https://localhost:8080/",
          "height": 35
        },
        "id": "CBZ0SOHRWR-y",
        "outputId": "19e667e9-0930-4a93-f936-7cab6d89f119"
      },
      "source": [
        "cities_list = ['Tokyo','Los Angeles','New York','San Francisco']\n",
        "cities_list[1]"
      ],
      "execution_count": null,
      "outputs": [
        {
          "output_type": "execute_result",
          "data": {
            "application/vnd.google.colaboratory.intrinsic+json": {
              "type": "string"
            },
            "text/plain": [
              "'Los Angeles'"
            ]
          },
          "metadata": {
            "tags": []
          },
          "execution_count": 11
        }
      ]
    },
    {
      "cell_type": "code",
      "metadata": {
        "colab": {
          "base_uri": "https://localhost:8080/"
        },
        "id": "IINYeP3iWhzk",
        "outputId": "0ac663e9-e4bb-4ca2-9f35-a3fca531b757"
      },
      "source": [
        "cities_list[2:4]"
      ],
      "execution_count": null,
      "outputs": [
        {
          "output_type": "execute_result",
          "data": {
            "text/plain": [
              "['New York', 'San Francisco']"
            ]
          },
          "metadata": {
            "tags": []
          },
          "execution_count": 12
        }
      ]
    },
    {
      "cell_type": "markdown",
      "metadata": {
        "id": "6SY6Upr5WqWe"
      },
      "source": [
        "**Dictionaries**"
      ]
    },
    {
      "cell_type": "code",
      "metadata": {
        "id": "NgaGjuZmWtEx"
      },
      "source": [
        "city_population = {\n",
        "    'Tokyo': 13350000, # a key-value pair\n",
        "    'Los Angeles': 18550000,\n",
        "    'New York City': 8400000,\n",
        "    'San Francisco': 1837442,\n",
        "}"
      ],
      "execution_count": null,
      "outputs": []
    },
    {
      "cell_type": "code",
      "metadata": {
        "colab": {
          "base_uri": "https://localhost:8080/"
        },
        "id": "4Edz1ejqW2cV",
        "outputId": "0361be55-649d-46a4-b1c4-559c7c71c8d4"
      },
      "source": [
        "city_population['New York City']"
      ],
      "execution_count": null,
      "outputs": [
        {
          "output_type": "execute_result",
          "data": {
            "text/plain": [
              "8400000"
            ]
          },
          "metadata": {
            "tags": []
          },
          "execution_count": 14
        }
      ]
    },
    {
      "cell_type": "markdown",
      "metadata": {
        "id": "QzqrXZF3XCDC"
      },
      "source": [
        "adding a key-value pair to the dictionary"
      ]
    },
    {
      "cell_type": "markdown",
      "metadata": {
        "id": "DyFjL1EYXNt_"
      },
      "source": [
        "“=” will assign a given value to a specific key, regardless of whether the key already exists in the dictionary. If it already exists, the new value will overwrite the previous one."
      ]
    },
    {
      "cell_type": "code",
      "metadata": {
        "id": "zLNtKDukXEPj"
      },
      "source": [
        "city_population['Mumbai'] = 11980000"
      ],
      "execution_count": null,
      "outputs": []
    },
    {
      "cell_type": "code",
      "metadata": {
        "colab": {
          "base_uri": "https://localhost:8080/"
        },
        "id": "BBXW7kcDXGBe",
        "outputId": "60820526-9683-4f64-aeba-afa5095bf3d6"
      },
      "source": [
        "city_population"
      ],
      "execution_count": null,
      "outputs": [
        {
          "output_type": "execute_result",
          "data": {
            "text/plain": [
              "{'Los Angeles': 18550000,\n",
              " 'Mumbai': 11980000,\n",
              " 'New York City': 8400000,\n",
              " 'San Francisco': 1837442,\n",
              " 'Tokyo': 13350000}"
            ]
          },
          "metadata": {
            "tags": []
          },
          "execution_count": 16
        }
      ]
    },
    {
      "cell_type": "markdown",
      "metadata": {
        "id": "yVMfuT4SXTcw"
      },
      "source": [
        "**Boolean Objects**"
      ]
    },
    {
      "cell_type": "code",
      "metadata": {
        "colab": {
          "base_uri": "https://localhost:8080/"
        },
        "id": "vYH6OE-zYBOu",
        "outputId": "43e7f816-10a7-44ac-d5ab-bae613449abc"
      },
      "source": [
        "type(True)"
      ],
      "execution_count": null,
      "outputs": [
        {
          "output_type": "execute_result",
          "data": {
            "text/plain": [
              "bool"
            ]
          },
          "metadata": {
            "tags": []
          },
          "execution_count": 18
        }
      ]
    },
    {
      "cell_type": "code",
      "metadata": {
        "colab": {
          "base_uri": "https://localhost:8080/"
        },
        "id": "rZDllMdhXT_x",
        "outputId": "1a021a96-38c4-4871-93b2-b8b3eb63adbe"
      },
      "source": [
        "city_population['Tokyo'] == 13350000\n",
        "\n",
        "#two equal signs will test for equality, but one equal sign will assign a variable. If you removed one of the equal signs, you would change the value of Tokyo's population in the dictionary"
      ],
      "execution_count": null,
      "outputs": [
        {
          "output_type": "execute_result",
          "data": {
            "text/plain": [
              "True"
            ]
          },
          "metadata": {
            "tags": []
          },
          "execution_count": 17
        }
      ]
    },
    {
      "cell_type": "code",
      "metadata": {
        "id": "rfBGeE93YDHK",
        "colab": {
          "base_uri": "https://localhost:8080/"
        },
        "outputId": "4bd377f2-2b4c-40d9-ad3c-9e88c32915c0"
      },
      "source": [
        "city_population['Tokyo'] == 23350000\n"
      ],
      "execution_count": null,
      "outputs": [
        {
          "output_type": "execute_result",
          "data": {
            "text/plain": [
              "False"
            ]
          },
          "metadata": {
            "tags": []
          },
          "execution_count": 19
        }
      ]
    },
    {
      "cell_type": "markdown",
      "metadata": {
        "id": "zXUHuC39zir7"
      },
      "source": [
        "[# Python Methods, Functions, & Libraries](mode.com/python-tutorial/python-methods-functions-and-libraries/)"
      ]
    },
    {
      "cell_type": "code",
      "metadata": {
        "id": "8be326Tfzp0n"
      },
      "source": [
        ""
      ],
      "execution_count": null,
      "outputs": []
    },
    {
      "cell_type": "code",
      "metadata": {
        "id": "ZXZpqSHhzz6y"
      },
      "source": [
        ""
      ],
      "execution_count": null,
      "outputs": []
    },
    {
      "cell_type": "markdown",
      "metadata": {
        "id": "pUoujA1Tz5ij"
      },
      "source": [
        "# [Python Methods, Functions, and Libraries](https://mode.com/python-tutorial/python-methods-functions-and-libraries/)"
      ]
    },
    {
      "cell_type": "code",
      "metadata": {
        "id": "0ca4MqrIz_Xj"
      },
      "source": [
        "#using a simple dictionary\n",
        "city_population = {\n",
        "  'Tokyo': 13350000, # a key-value pair\n",
        "  'Los Angeles': 18550000,\n",
        "  'New York City': 8400000,\n",
        "  'San Francisco': 1837442,\n",
        "}"
      ],
      "execution_count": null,
      "outputs": []
    },
    {
      "cell_type": "markdown",
      "metadata": {
        "id": "lRMQK0gm07sv"
      },
      "source": [
        "**Methods**"
      ]
    },
    {
      "cell_type": "markdown",
      "metadata": {
        "id": "hrMydfXG0WNI"
      },
      "source": [
        "A method is an action that you can take on an object. If a real-world window was an object, its methods might be .open() or .close()."
      ]
    },
    {
      "cell_type": "code",
      "metadata": {
        "colab": {
          "base_uri": "https://localhost:8080/"
        },
        "id": "x9wgqrQa0Tva",
        "outputId": "4c42b40e-47e7-46c8-d36c-78e04fdeedc0"
      },
      "source": [
        "city_population.keys()\n"
      ],
      "execution_count": null,
      "outputs": [
        {
          "output_type": "execute_result",
          "data": {
            "text/plain": [
              "dict_keys(['Tokyo', 'Los Angeles', 'New York City', 'San Francisco'])"
            ]
          },
          "metadata": {
            "tags": []
          },
          "execution_count": 4
        }
      ]
    },
    {
      "cell_type": "code",
      "metadata": {
        "colab": {
          "base_uri": "https://localhost:8080/"
        },
        "id": "lPY--WO10en8",
        "outputId": "8ecff806-9619-4cbf-e19f-1406363fefb2"
      },
      "source": [
        "type(city_population.keys())"
      ],
      "execution_count": null,
      "outputs": [
        {
          "output_type": "execute_result",
          "data": {
            "text/plain": [
              "dict_keys"
            ]
          },
          "metadata": {
            "tags": []
          },
          "execution_count": 5
        }
      ]
    },
    {
      "cell_type": "code",
      "metadata": {
        "colab": {
          "base_uri": "https://localhost:8080/"
        },
        "id": "HIFyK9Dp0kmP",
        "outputId": "29436a2a-ece7-472a-e73d-adb740569ad3"
      },
      "source": [
        "city_population.values()"
      ],
      "execution_count": null,
      "outputs": [
        {
          "output_type": "execute_result",
          "data": {
            "text/plain": [
              "dict_values([13350000, 18550000, 8400000, 1837442])"
            ]
          },
          "metadata": {
            "tags": []
          },
          "execution_count": 11
        }
      ]
    },
    {
      "cell_type": "markdown",
      "metadata": {
        "id": "Iaisqhj10_DB"
      },
      "source": [
        "**Functions**"
      ]
    },
    {
      "cell_type": "markdown",
      "metadata": {
        "id": "ECxYHhll1BQL"
      },
      "source": [
        "They're very similar to methods in that they perform an action, but unlike methods, functions are not tied to specific objects. To relate this concept to our earlier window example, the function throw_rock() could be used with a real-world object window, but also with vase or cow or a number of other objects."
      ]
    },
    {
      "cell_type": "markdown",
      "metadata": {
        "id": "pa9f28so1I54"
      },
      "source": [
        "Functions typically go in front of an object name (with the object wrapped in parentheses), whereas a method is appended to the end of an object name. For example, compare throw_rock(window) with window.open()."
      ]
    },
    {
      "cell_type": "code",
      "metadata": {
        "colab": {
          "base_uri": "https://localhost:8080/"
        },
        "id": "2MgSONP_1Jsv",
        "outputId": "fadce809-1764-4a6e-8c44-0d603a30a00e"
      },
      "source": [
        "#type is a common function\n",
        "\n",
        "type(city_population['Tokyo'])"
      ],
      "execution_count": null,
      "outputs": [
        {
          "output_type": "execute_result",
          "data": {
            "text/plain": [
              "int"
            ]
          },
          "metadata": {
            "tags": []
          },
          "execution_count": 16
        }
      ]
    },
    {
      "cell_type": "markdown",
      "metadata": {
        "id": "uGr_iw_J1uGw"
      },
      "source": [
        "**Libraries**"
      ]
    },
    {
      "cell_type": "markdown",
      "metadata": {
        "id": "hmtm4RnZ1yVf"
      },
      "source": [
        "A library is a bundle of code made to help you accomplish routine tasks more quickly. Seaborn, for example, allows you to create visualizations with as little as one line of code."
      ]
    },
    {
      "cell_type": "code",
      "metadata": {
        "id": "8y-m87xQ136n"
      },
      "source": [
        "import numpy as np # name of the library\n"
      ],
      "execution_count": null,
      "outputs": []
    },
    {
      "cell_type": "code",
      "metadata": {
        "id": "m3l38ttI2lgh"
      },
      "source": [
        "#converting a dictionary into a numpy array\n",
        "\n",
        "data = list(city_population.items())\n",
        "my_array = np.array(data)"
      ],
      "execution_count": null,
      "outputs": []
    },
    {
      "cell_type": "code",
      "metadata": {
        "colab": {
          "base_uri": "https://localhost:8080/"
        },
        "id": "9paov6rK2vF6",
        "outputId": "5e7d8e69-2e9d-4ffa-a9ef-39137ff278e4"
      },
      "source": [
        "my_array"
      ],
      "execution_count": null,
      "outputs": [
        {
          "output_type": "execute_result",
          "data": {
            "text/plain": [
              "array([['Tokyo', '13350000'],\n",
              "       ['Los Angeles', '18550000'],\n",
              "       ['New York City', '8400000'],\n",
              "       ['San Francisco', '1837442']], dtype='<U13')"
            ]
          },
          "metadata": {
            "tags": []
          },
          "execution_count": 24
        }
      ]
    }
  ]
}